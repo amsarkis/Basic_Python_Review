{
  "nbformat": 4,
  "nbformat_minor": 0,
  "metadata": {
    "colab": {
      "name": "HW1_Sarkisian_Armand.ipynb",
      "provenance": [],
      "collapsed_sections": []
    },
    "kernelspec": {
      "name": "python3",
      "display_name": "Python 3"
    }
  },
  "cells": [
    {
      "cell_type": "markdown",
      "metadata": {
        "id": "hm8RAKinXsIP"
      },
      "source": [
        "## **Homework 1**\n",
        "\n",
        "### Create a copy of the notebook to start answering the questions. Name your notebook in the format HW1_lastname_firstname.ipynb to facilitate the grading process. \n",
        "\n",
        "### Answer all the questions, test your code to ensure there are no errors and the results are as expected. Once you have answered all the questions, save the final copy, then go to File-> click on Download.ipynb. Once the local copy has been downloaded, submit your file on Blackboard under the corresponding assignment section. Also provide us a link to your notebook during submission. \n",
        "\n",
        "### **The due date of this homework is 02/05/2021 (Friday).**\n",
        "\n",
        "### Please ensure you follow all the steps mentioned in the homework.\n",
        "\n",
        "### All the questions have a sample input and output to help you understand the question. Please note that your programs will be tested for other sets of inputs and outputs along with the sample provided. So test your code for other inputs.\n",
        "\n",
        "### You can submit your solutions any number of times until the deadline.\n"
      ]
    },
    {
      "cell_type": "markdown",
      "metadata": {
        "id": "uacFrEaZfcfq"
      },
      "source": [
        "##### Q1. Write a program that prompts the user to enter a password then prints the length of the password.\n",
        "\n",
        "```\n",
        "Enter your password: hello\n",
        "Your password is 5 long.\n",
        "```\n",
        "\n",
        "\n"
      ]
    },
    {
      "cell_type": "code",
      "metadata": {
        "id": "avPyES14ftCt"
      },
      "source": [
        "password = input(\"Enter your password: \")\n",
        "print(\"Your password is\", len(password), \"characters long.\")"
      ],
      "execution_count": null,
      "outputs": []
    },
    {
      "cell_type": "markdown",
      "metadata": {
        "id": "behD0j_Of2TW"
      },
      "source": [
        "##### Q2. Write a program that prompts the user to enter their full name then prints the number of characters in their name (do not count spaces).\n",
        "\n",
        "```\n",
        "What is your name? Amulya Katti\n",
        "Amulya Katti your name has 11 characters.\n",
        "```"
      ]
    },
    {
      "cell_type": "code",
      "metadata": {
        "id": "XSdIRjwlhSlu"
      },
      "source": [
        "name = input(\"What is your name?: \")\n",
        "# remove spaces\n",
        "print(name, \"your name has\", len(name.replace(\" \", \"\")), \"characters.\")\n"
      ],
      "execution_count": null,
      "outputs": []
    },
    {
      "cell_type": "markdown",
      "metadata": {
        "id": "5KHOWF6FhVHV"
      },
      "source": [
        "##### Q3. Write a program that prompts the user to enter a month (as a number), then prints the name of the month and the number of days in that month. Ensure that the user inputs a valid month and handle any error cases.\n",
        "\n",
        "```\n",
        "Enter the month number: 9\n",
        "September has 30 days\n",
        "```"
      ]
    },
    {
      "cell_type": "code",
      "metadata": {
        "id": "KhS-SAEThyTG"
      },
      "source": [
        "# lists for month names and day totals\n",
        "monthNames = [\"January\", \"February\", \"March\", \"April\", \"May\", \"June\", \"July\", \"August\", \"September\", \"October\", \"Novermber\", \"December\"]\n",
        "monthDays = [31,28,31,30,31,30,31,31,30,31,30,31]\n",
        "\n",
        "monthNumber = int(input(\"Enter the month number: \"))\n",
        "while monthNumber < 1 or monthNumber > 12:\n",
        "  monthNumber = int(input(\"Invalid input! Enter a month 1-12: \"))\n",
        "print(monthNames[monthNumber-1], \"has\", monthDays[monthNumber-1], \"days.\")"
      ],
      "execution_count": null,
      "outputs": []
    },
    {
      "cell_type": "markdown",
      "metadata": {
        "id": "O7lnAdGlh6Xa"
      },
      "source": [
        "##### Q4. Write a program that prompts the user to enter a loan amount, annual interest rate, and number of years  for a car loan. Then calculate and print the monthly payment amount.\n",
        "\n",
        "Note:\n",
        "```\n",
        "PMT= [PV*i*((1+i)^n)]/[((1+i)^n)-1]\n",
        "```\n",
        "PMT is the monthly payment\n",
        "\n",
        "PV is the loan amount\n",
        "\n",
        "i is the interest rate per month in decimal form (interest rate percentage divided by 12)\n",
        "\n",
        "n is the number of months (term of the loan in months)\n",
        "\n",
        "```\n",
        "Loan Amount: 30000.00\n",
        "Annual Interest Rate: 4.00\n",
        "Years: 5\n",
        "Your monthly payment is: $552.50\n",
        "```"
      ]
    },
    {
      "cell_type": "code",
      "metadata": {
        "id": "p4B5JH5GiTs9"
      },
      "source": [
        "pv = float(input(\"Loan Amount: \"))\n",
        "annualInterest = float(input(\"Annual Interest Rate: \"))\n",
        "years = float(input(\"Years: \"))\n",
        "i = (annualInterest / 12) * .01 #percentage\n",
        "n = years * 12\n",
        "\n",
        "pmt = round((pv*i*((1+i)**n)) / (((1+i)**n)-1), 2)\n",
        "\n",
        "print(\"Your monthly payment is: $\", pmt)"
      ],
      "execution_count": null,
      "outputs": []
    },
    {
      "cell_type": "markdown",
      "metadata": {
        "id": "SjiolJKgiWV-"
      },
      "source": [
        "##### Q5. Write a program to that prompts the user to enter a string. Then check whether or not the string is a palindrome.\n",
        "\n",
        "```\n",
        "Enter a string: Madam\n",
        "Madam, is a palindrome!\n",
        "```"
      ]
    },
    {
      "cell_type": "code",
      "metadata": {
        "id": "F5_M934Ri0es"
      },
      "source": [
        "string = input(\"Enter a string: \").lower()\n",
        "stringList = list(string)\n",
        "space = \" \" # used to remove spaces later\n",
        "for ltr in stringList:\n",
        "  if ltr == \" \":\n",
        "    stringList.remove(space)\n",
        "\n",
        "stringReverse = list(reversed(stringList))\n",
        "\n",
        "# if reverse is same as forward, then palindrome\n",
        "if stringReverse == stringList:\n",
        "  print(string.title(), \"is a palindrome!\")\n",
        "else:\n",
        "  print(string.title(), \"is not a palindrome.\")\n",
        "  \n"
      ],
      "execution_count": null,
      "outputs": []
    },
    {
      "cell_type": "markdown",
      "metadata": {
        "id": "BLBD6n9vkJEu"
      },
      "source": [
        "##### Q6. Write a program to compute and print all possible combinations of change for \\$1. Denominations to be considered – quarter, dime, nickel, penny.\n",
        "\n",
        "Hint: Use nested loops (loops within loops for the various denominations of coins)\n",
        "\n",
        "```\n",
        "Change for $1:\n",
        "0 quarters, 0 dimes, 0 nickels, 100 pennies\n",
        "…\n",
        "4 quarters, 0 dimes, 0 nickels, 0 pennies\n",
        "```"
      ]
    },
    {
      "cell_type": "code",
      "metadata": {
        "id": "kAQsTjwDkZZ5"
      },
      "source": [
        "print(\"Change for $1:\")\n",
        "\n",
        "key = 0\n",
        "combos = {} #dict keeps track of valid combos\n",
        "\n",
        "#iterates through every possible combination of coins\n",
        "for q in range(0,5):\n",
        "  for d in range(0,11):\n",
        "    for n in range(0,21):\n",
        "      for p in range(0, 101):\n",
        "        # checks with totalling formula to see if combo adds to 100\n",
        "        if 25*q+10*d+5*n+1*p == 100:\n",
        "          key += 1\n",
        "          combos[key] = [q,d,n,p]\n",
        "\n",
        "denoms = [\"quarters\", \"dimes\", \"nickels\", \"pennies\"]\n",
        "\n",
        "# for each key in dict, turns values into list and prints list with coin denominations\n",
        "for key in combos:\n",
        "  coins = list(combos.values())\n",
        "for validCombo in coins:\n",
        "  print(validCombo[0], denoms[0], validCombo[1], denoms[1], validCombo[2], denoms[2], validCombo[3], denoms[3])"
      ],
      "execution_count": null,
      "outputs": []
    },
    {
      "cell_type": "markdown",
      "metadata": {
        "id": "rUPDjYiIkbgs"
      },
      "source": [
        "##### Q7. Ask the user to enter two positive integers between 1 and 100. Read those integers. Then output a multiplication table of the first number times the second number. \n",
        "\n",
        "Note: You have to ensure the entered numbers are between 1 and 100 only.\n",
        "\n",
        "```\n",
        "Please enter an integer: 5\n",
        "Please enter another integer: 20\n",
        "5 x 1 = 5\n",
        "5 x 2 = 10\n",
        "5 x 3 = 15\n",
        "…\n",
        "5 x 20 = 100\n",
        "```"
      ]
    },
    {
      "cell_type": "code",
      "metadata": {
        "id": "Qg0Orv1klHzA"
      },
      "source": [
        "int1 = int(input(\"Please enter an interger 1-100: \"))\n",
        "while int1 < 1 or int1 > 100:\n",
        "  int1 = int(input(\"Please enter an interger 1-100: \"))\n",
        "int2 = int(input(\"Please enter another interger 1-100: \"))\n",
        "while int2 < 1 or int2 > 100:\n",
        "  int2 = int(input(\"Please enter an interger 1-100: \"))\n",
        "\n",
        "i = 1\n",
        "while i <= int2:\n",
        "  print(str(int1), \"x\", str(i), \"=\", int1*i)\n",
        "  i += 1"
      ],
      "execution_count": null,
      "outputs": []
    },
    {
      "cell_type": "markdown",
      "metadata": {
        "id": "SbnbPUPTlLD9"
      },
      "source": [
        "##### Q8. Write a program to ask the user to enter a password. Then check to see if it is a valid password based on these requirements -\n",
        "\n",
        "Must be at least 8 characters long\n",
        "\n",
        "Must contain both uppercase and lowercase letters\n",
        "\n",
        "Must contain at least one number between 0-9\n",
        "\n",
        "Must contain a special character -!,@,#,$\n",
        "\n",
        "If the password is not valid, ask the user to re-enter. This should continue until the user enters a valid password. After a valid password is entered, print Access Granted!\n",
        "\n",
        "```\n",
        "Please enter a password. Follow these requirements - \n",
        "a. Must be at least 8 characters long\n",
        "b. Must contain both uppercase and lowercase letters\n",
        "c. Must contain at least one number between 0-9\n",
        "d. Must contain a special character -!,@,#,$\n",
        "Password: HelloWorld1\n",
        "Invalid password. Try again!\n",
        "Password: Hello@World1\n",
        "Access Granted!\n",
        "```\n"
      ]
    },
    {
      "cell_type": "code",
      "metadata": {
        "id": "OXmZ177Rl-RV"
      },
      "source": [
        "print(\"Please enter a password. Follow these requirements - \")\n",
        "print(\"a. Must be at least 8 characters long\")\n",
        "print(\"b. Must contain both uppercase and lowercase letters\")\n",
        "print(\"c. Must contain at least one number between 0-9\")\n",
        "print(\"d. Must contain a special character -!,@,#,$\")\n",
        "pwd = input(\"Password: \")\n",
        "valid = False # true when password is valid\n",
        "\n",
        "while valid == False:\n",
        "  # all 4 criteria are checked for in this if statement\n",
        "  if (len(pwd) >= 8) and (pwd.lower() != pwd and pwd.upper() != pwd) and (\"1\" in pwd or \"2\" in pwd or \"3\" in pwd or \"4\" in pwd or \"5\" in pwd or \"6\" in pwd or \"7\" in pwd or \"8\" in pwd or \"9\" in pwd) and (\"!\" in pwd or \"@\" in pwd or \"#\" in pwd or \"$\" in pwd):\n",
        "    print(\"Access Granted!\")\n",
        "    valid = True\n",
        "  else:\n",
        "    # enter new password if invalid\n",
        "    print(\"Invalid password. Try again!\")\n",
        "    pwd = input(\"Password: \")\n",
        "    valid = False\n"
      ],
      "execution_count": null,
      "outputs": []
    },
    {
      "cell_type": "markdown",
      "metadata": {
        "id": "-0sdutTDnTKA"
      },
      "source": [
        "##### Q9. Given the score sheet of participants in a competition, you are required to find the runner-up score. You are given scores in a list. Find the score of the runner-up.\n",
        "\n",
        "```\n",
        "list1 - [2, 3, 6, 6, 5]\n",
        "runner_up - 5\n",
        "\n",
        "list2 - [1, 7, 5, 3, 10, 4, 5, 5, 6, 11]\n",
        "runner_up - 10\n",
        "```"
      ]
    },
    {
      "cell_type": "code",
      "metadata": {
        "id": "12YP9OaqpGRK"
      },
      "source": [
        "list1 = [2, 3, 6, 6, 5]\n",
        "list2 = [1, 7, 5, 3, 10, 4, 5, 5, 6, 11]\n",
        "\n",
        "# sorts lists\n",
        "list1S = sorted(list1)\n",
        "list2S = sorted(list2)\n",
        "\n",
        "# used to remove ties (duplicate values)\n",
        "list1NoTies = [] \n",
        "list2NoTies = []\n",
        "\n",
        "# if score not in sorted list, add to new list\n",
        "for score in list1S:\n",
        "  if score not in list1NoTies:\n",
        "    list1NoTies.append(score)\n",
        "\n",
        "for score in list2S:\n",
        "  if score not in list2NoTies:\n",
        "    list2NoTies.append(score)\n",
        "\n",
        "# prints penultimate scores for lists\n",
        "print(list1)\n",
        "print(\"runner_up - \", str(list1NoTies[len(list1NoTies)-2]),\"\\n\")\n",
        "print(list2)\n",
        "print(\"runner_up - \", str(list2NoTies[len(list2NoTies)-2]))\n",
        "\n"
      ],
      "execution_count": null,
      "outputs": []
    }
  ]
}